{
 "cells": [
  {
   "cell_type": "code",
   "execution_count": 1,
   "metadata": {
    "_cell_guid": "b1076dfc-b9ad-4769-8c92-a6c4dae69d19",
    "_uuid": "8f2839f25d086af736a60e9eeb907d3b93b6e0e5",
    "execution": {
     "iopub.execute_input": "2021-03-21T04:01:39.799274Z",
     "iopub.status.busy": "2021-03-21T04:01:39.798605Z",
     "iopub.status.idle": "2021-03-21T04:01:45.770598Z",
     "shell.execute_reply": "2021-03-21T04:01:45.769495Z"
    },
    "papermill": {
     "duration": 5.99558,
     "end_time": "2021-03-21T04:01:45.770818",
     "exception": false,
     "start_time": "2021-03-21T04:01:39.775238",
     "status": "completed"
    },
    "tags": []
   },
   "outputs": [],
   "source": [
    "import os\n",
    "import gc\n",
    "\n",
    "import cv2\n",
    "from tensorflow import keras\n",
    "from tensorflow.keras import backend as K\n",
    "from tensorflow.keras import layers\n",
    "from tensorflow.keras.preprocessing.image import ImageDataGenerator\n",
    "from tensorflow.keras.models import Model, load_model\n",
    "from tensorflow.keras.layers import Input\n",
    "from tensorflow.keras.layers import Conv2D, Conv2DTranspose\n",
    "from tensorflow.keras.layers import MaxPooling2D\n",
    "from tensorflow.keras.layers import concatenate\n",
    "from tensorflow.keras.optimizers import Adam\n",
    "from tensorflow.keras.callbacks import Callback, ModelCheckpoint, EarlyStopping\n",
    "import matplotlib.pyplot as plt\n",
    "import numpy as np\n",
    "import pandas as pd\n",
    "from tqdm import tqdm\n",
    "from sklearn.model_selection import train_test_split"
   ]
  },
  {
   "cell_type": "code",
   "execution_count": 2,
   "metadata": {
    "execution": {
     "iopub.execute_input": "2021-03-21T04:01:45.806415Z",
     "iopub.status.busy": "2021-03-21T04:01:45.805791Z",
     "iopub.status.idle": "2021-03-21T04:01:45.843270Z",
     "shell.execute_reply": "2021-03-21T04:01:45.843640Z"
    },
    "papermill": {
     "duration": 0.057056,
     "end_time": "2021-03-21T04:01:45.843788",
     "exception": false,
     "start_time": "2021-03-21T04:01:45.786732",
     "status": "completed"
    },
    "tags": []
   },
   "outputs": [],
   "source": [
    "img_path = '../input/severstal-steel-defect-detection/test_images/004f40c73.jpg'\n",
    "img = cv2.imread(img_path, cv2.IMREAD_GRAYSCALE)\n",
    "img = img.astype(np.float32) / 255.\n",
    "img = np.expand_dims(img, axis=-1)"
   ]
  },
  {
   "cell_type": "code",
   "execution_count": 3,
   "metadata": {
    "execution": {
     "iopub.execute_input": "2021-03-21T04:01:45.880563Z",
     "iopub.status.busy": "2021-03-21T04:01:45.880049Z",
     "iopub.status.idle": "2021-03-21T04:01:45.883017Z",
     "shell.execute_reply": "2021-03-21T04:01:45.883408Z"
    },
    "papermill": {
     "duration": 0.024584,
     "end_time": "2021-03-21T04:01:45.883524",
     "exception": false,
     "start_time": "2021-03-21T04:01:45.858940",
     "status": "completed"
    },
    "tags": []
   },
   "outputs": [
    {
     "data": {
      "text/plain": [
       "(256, 1600, 1)"
      ]
     },
     "execution_count": 3,
     "metadata": {},
     "output_type": "execute_result"
    }
   ],
   "source": [
    "np.shape(img)"
   ]
  },
  {
   "cell_type": "markdown",
   "metadata": {
    "_cell_guid": "b1076dfc-b9ad-4769-8c92-a6c4dae69d19",
    "_uuid": "8f2839f25d086af736a60e9eeb907d3b93b6e0e5",
    "papermill": {
     "duration": 0.015294,
     "end_time": "2021-03-21T04:01:45.914337",
     "exception": false,
     "start_time": "2021-03-21T04:01:45.899043",
     "status": "completed"
    },
    "tags": []
   },
   "source": [
    "# load dataframe with train labels"
   ]
  },
  {
   "cell_type": "code",
   "execution_count": 4,
   "metadata": {
    "_cell_guid": "b1076dfc-b9ad-4769-8c92-a6c4dae69d19",
    "_uuid": "8f2839f25d086af736a60e9eeb907d3b93b6e0e5",
    "execution": {
     "iopub.execute_input": "2021-03-21T04:01:45.949734Z",
     "iopub.status.busy": "2021-03-21T04:01:45.949237Z",
     "iopub.status.idle": "2021-03-21T04:01:46.359394Z",
     "shell.execute_reply": "2021-03-21T04:01:46.358493Z"
    },
    "papermill": {
     "duration": 0.429665,
     "end_time": "2021-03-21T04:01:46.359525",
     "exception": false,
     "start_time": "2021-03-21T04:01:45.929860",
     "status": "completed"
    },
    "tags": []
   },
   "outputs": [
    {
     "name": "stdout",
     "output_type": "stream",
     "text": [
      "(7095, 3)\n"
     ]
    }
   ],
   "source": [
    "train_df = pd.read_csv('../input/severstal-steel-defect-detection/train.csv')\n",
    "print(train_df.shape)"
   ]
  },
  {
   "cell_type": "code",
   "execution_count": 5,
   "metadata": {
    "_cell_guid": "b1076dfc-b9ad-4769-8c92-a6c4dae69d19",
    "_uuid": "8f2839f25d086af736a60e9eeb907d3b93b6e0e5",
    "execution": {
     "iopub.execute_input": "2021-03-21T04:01:46.406858Z",
     "iopub.status.busy": "2021-03-21T04:01:46.406058Z",
     "iopub.status.idle": "2021-03-21T04:01:46.413045Z",
     "shell.execute_reply": "2021-03-21T04:01:46.412625Z"
    },
    "papermill": {
     "duration": 0.037534,
     "end_time": "2021-03-21T04:01:46.413157",
     "exception": false,
     "start_time": "2021-03-21T04:01:46.375623",
     "status": "completed"
    },
    "tags": []
   },
   "outputs": [
    {
     "data": {
      "text/html": [
       "<div>\n",
       "<style scoped>\n",
       "    .dataframe tbody tr th:only-of-type {\n",
       "        vertical-align: middle;\n",
       "    }\n",
       "\n",
       "    .dataframe tbody tr th {\n",
       "        vertical-align: top;\n",
       "    }\n",
       "\n",
       "    .dataframe thead th {\n",
       "        text-align: right;\n",
       "    }\n",
       "</style>\n",
       "<table border=\"1\" class=\"dataframe\">\n",
       "  <thead>\n",
       "    <tr style=\"text-align: right;\">\n",
       "      <th></th>\n",
       "      <th>ImageId</th>\n",
       "      <th>ClassId</th>\n",
       "      <th>EncodedPixels</th>\n",
       "    </tr>\n",
       "  </thead>\n",
       "  <tbody>\n",
       "    <tr>\n",
       "      <th>0</th>\n",
       "      <td>0002cc93b.jpg</td>\n",
       "      <td>1</td>\n",
       "      <td>29102 12 29346 24 29602 24 29858 24 30114 24 3...</td>\n",
       "    </tr>\n",
       "    <tr>\n",
       "      <th>1</th>\n",
       "      <td>0007a71bf.jpg</td>\n",
       "      <td>3</td>\n",
       "      <td>18661 28 18863 82 19091 110 19347 110 19603 11...</td>\n",
       "    </tr>\n",
       "    <tr>\n",
       "      <th>2</th>\n",
       "      <td>000a4bcdd.jpg</td>\n",
       "      <td>1</td>\n",
       "      <td>37607 3 37858 8 38108 14 38359 20 38610 25 388...</td>\n",
       "    </tr>\n",
       "    <tr>\n",
       "      <th>3</th>\n",
       "      <td>000f6bf48.jpg</td>\n",
       "      <td>4</td>\n",
       "      <td>131973 1 132228 4 132483 6 132738 8 132993 11 ...</td>\n",
       "    </tr>\n",
       "    <tr>\n",
       "      <th>4</th>\n",
       "      <td>0014fce06.jpg</td>\n",
       "      <td>3</td>\n",
       "      <td>229501 11 229741 33 229981 55 230221 77 230468...</td>\n",
       "    </tr>\n",
       "  </tbody>\n",
       "</table>\n",
       "</div>"
      ],
      "text/plain": [
       "         ImageId  ClassId                                      EncodedPixels\n",
       "0  0002cc93b.jpg        1  29102 12 29346 24 29602 24 29858 24 30114 24 3...\n",
       "1  0007a71bf.jpg        3  18661 28 18863 82 19091 110 19347 110 19603 11...\n",
       "2  000a4bcdd.jpg        1  37607 3 37858 8 38108 14 38359 20 38610 25 388...\n",
       "3  000f6bf48.jpg        4  131973 1 132228 4 132483 6 132738 8 132993 11 ...\n",
       "4  0014fce06.jpg        3  229501 11 229741 33 229981 55 230221 77 230468..."
      ]
     },
     "execution_count": 5,
     "metadata": {},
     "output_type": "execute_result"
    }
   ],
   "source": [
    "train_df.head(5)"
   ]
  },
  {
   "cell_type": "code",
   "execution_count": 6,
   "metadata": {
    "_cell_guid": "b1076dfc-b9ad-4769-8c92-a6c4dae69d19",
    "_uuid": "8f2839f25d086af736a60e9eeb907d3b93b6e0e5",
    "execution": {
     "iopub.execute_input": "2021-03-21T04:01:46.458257Z",
     "iopub.status.busy": "2021-03-21T04:01:46.457552Z",
     "iopub.status.idle": "2021-03-21T04:01:46.461192Z",
     "shell.execute_reply": "2021-03-21T04:01:46.461599Z"
    },
    "papermill": {
     "duration": 0.03222,
     "end_time": "2021-03-21T04:01:46.461719",
     "exception": false,
     "start_time": "2021-03-21T04:01:46.429499",
     "status": "completed"
    },
    "tags": []
   },
   "outputs": [
    {
     "name": "stdout",
     "output_type": "stream",
     "text": [
      "<class 'pandas.core.frame.DataFrame'>\n",
      "RangeIndex: 7095 entries, 0 to 7094\n",
      "Data columns (total 3 columns):\n",
      " #   Column         Non-Null Count  Dtype \n",
      "---  ------         --------------  ----- \n",
      " 0   ImageId        7095 non-null   object\n",
      " 1   ClassId        7095 non-null   int64 \n",
      " 2   EncodedPixels  7095 non-null   object\n",
      "dtypes: int64(1), object(2)\n",
      "memory usage: 166.4+ KB\n"
     ]
    }
   ],
   "source": [
    "train_df.info()"
   ]
  },
  {
   "cell_type": "code",
   "execution_count": 7,
   "metadata": {
    "_cell_guid": "b1076dfc-b9ad-4769-8c92-a6c4dae69d19",
    "_uuid": "8f2839f25d086af736a60e9eeb907d3b93b6e0e5",
    "execution": {
     "iopub.execute_input": "2021-03-21T04:01:46.500474Z",
     "iopub.status.busy": "2021-03-21T04:01:46.499882Z",
     "iopub.status.idle": "2021-03-21T04:01:46.503003Z",
     "shell.execute_reply": "2021-03-21T04:01:46.503387Z"
    },
    "papermill": {
     "duration": 0.025157,
     "end_time": "2021-03-21T04:01:46.503511",
     "exception": false,
     "start_time": "2021-03-21T04:01:46.478354",
     "status": "completed"
    },
    "tags": []
   },
   "outputs": [
    {
     "data": {
      "text/plain": [
       "[1, 3, 4, 2]"
      ]
     },
     "execution_count": 7,
     "metadata": {},
     "output_type": "execute_result"
    }
   ],
   "source": [
    "list(train_df['ClassId'].unique())"
   ]
  },
  {
   "cell_type": "code",
   "execution_count": 8,
   "metadata": {
    "_cell_guid": "b1076dfc-b9ad-4769-8c92-a6c4dae69d19",
    "_uuid": "8f2839f25d086af736a60e9eeb907d3b93b6e0e5",
    "execution": {
     "iopub.execute_input": "2021-03-21T04:01:46.542109Z",
     "iopub.status.busy": "2021-03-21T04:01:46.541316Z",
     "iopub.status.idle": "2021-03-21T04:01:46.559244Z",
     "shell.execute_reply": "2021-03-21T04:01:46.558662Z"
    },
    "papermill": {
     "duration": 0.039333,
     "end_time": "2021-03-21T04:01:46.559383",
     "exception": false,
     "start_time": "2021-03-21T04:01:46.520050",
     "status": "completed"
    },
    "tags": []
   },
   "outputs": [
    {
     "name": "stdout",
     "output_type": "stream",
     "text": [
      "(6666, 2)\n"
     ]
    },
    {
     "data": {
      "text/html": [
       "<div>\n",
       "<style scoped>\n",
       "    .dataframe tbody tr th:only-of-type {\n",
       "        vertical-align: middle;\n",
       "    }\n",
       "\n",
       "    .dataframe tbody tr th {\n",
       "        vertical-align: top;\n",
       "    }\n",
       "\n",
       "    .dataframe thead th {\n",
       "        text-align: right;\n",
       "    }\n",
       "</style>\n",
       "<table border=\"1\" class=\"dataframe\">\n",
       "  <thead>\n",
       "    <tr style=\"text-align: right;\">\n",
       "      <th></th>\n",
       "      <th>ImageId</th>\n",
       "      <th>Num_ClassId</th>\n",
       "    </tr>\n",
       "  </thead>\n",
       "  <tbody>\n",
       "    <tr>\n",
       "      <th>6253</th>\n",
       "      <td>ef24da2ba.jpg</td>\n",
       "      <td>3</td>\n",
       "    </tr>\n",
       "    <tr>\n",
       "      <th>5740</th>\n",
       "      <td>db4867ee8.jpg</td>\n",
       "      <td>3</td>\n",
       "    </tr>\n",
       "    <tr>\n",
       "      <th>3435</th>\n",
       "      <td>84865746c.jpg</td>\n",
       "      <td>2</td>\n",
       "    </tr>\n",
       "    <tr>\n",
       "      <th>2203</th>\n",
       "      <td>5665ada1b.jpg</td>\n",
       "      <td>2</td>\n",
       "    </tr>\n",
       "    <tr>\n",
       "      <th>6149</th>\n",
       "      <td>eb44ad79d.jpg</td>\n",
       "      <td>2</td>\n",
       "    </tr>\n",
       "  </tbody>\n",
       "</table>\n",
       "</div>"
      ],
      "text/plain": [
       "            ImageId  Num_ClassId\n",
       "6253  ef24da2ba.jpg            3\n",
       "5740  db4867ee8.jpg            3\n",
       "3435  84865746c.jpg            2\n",
       "2203  5665ada1b.jpg            2\n",
       "6149  eb44ad79d.jpg            2"
      ]
     },
     "execution_count": 8,
     "metadata": {},
     "output_type": "execute_result"
    }
   ],
   "source": [
    "mask_count_df = train_df.groupby('ImageId')[\"ClassId\"].count().reset_index().rename(columns = {\"ClassId\":\"Num_ClassId\"})\n",
    "mask_count_df.sort_values('Num_ClassId', ascending=False, inplace=True)\n",
    "print(mask_count_df.shape)\n",
    "mask_count_df.head()"
   ]
  },
  {
   "cell_type": "markdown",
   "metadata": {
    "_cell_guid": "b1076dfc-b9ad-4769-8c92-a6c4dae69d19",
    "_uuid": "8f2839f25d086af736a60e9eeb907d3b93b6e0e5",
    "papermill": {
     "duration": 0.017188,
     "end_time": "2021-03-21T04:01:46.594177",
     "exception": false,
     "start_time": "2021-03-21T04:01:46.576989",
     "status": "completed"
    },
    "tags": []
   },
   "source": [
    "# Keras U-Net"
   ]
  },
  {
   "cell_type": "markdown",
   "metadata": {
    "_cell_guid": "b1076dfc-b9ad-4769-8c92-a6c4dae69d19",
    "_uuid": "8f2839f25d086af736a60e9eeb907d3b93b6e0e5",
    "papermill": {
     "duration": 0.017118,
     "end_time": "2021-03-21T04:01:46.628593",
     "exception": false,
     "start_time": "2021-03-21T04:01:46.611475",
     "status": "completed"
    },
    "tags": []
   },
   "source": [
    "## Utility Functions"
   ]
  },
  {
   "cell_type": "code",
   "execution_count": 9,
   "metadata": {
    "_cell_guid": "b1076dfc-b9ad-4769-8c92-a6c4dae69d19",
    "_uuid": "8f2839f25d086af736a60e9eeb907d3b93b6e0e5",
    "execution": {
     "iopub.execute_input": "2021-03-21T04:01:46.672371Z",
     "iopub.status.busy": "2021-03-21T04:01:46.670453Z",
     "iopub.status.idle": "2021-03-21T04:01:46.674552Z",
     "shell.execute_reply": "2021-03-21T04:01:46.674941Z"
    },
    "papermill": {
     "duration": 0.029261,
     "end_time": "2021-03-21T04:01:46.675061",
     "exception": false,
     "start_time": "2021-03-21T04:01:46.645800",
     "status": "completed"
    },
    "tags": []
   },
   "outputs": [],
   "source": [
    "def mask2rle(img):\n",
    "    '''\n",
    "    img: numpy array, 1 - mask, 0 - background\n",
    "    Returns run length as string formated\n",
    "    '''\n",
    "    pixels= img.T.flatten()\n",
    "    pixels = np.concatenate([[0], pixels, [0]])\n",
    "    runs = np.where(pixels[1:] != pixels[:-1])[0] + 1\n",
    "    runs[1::2] -= runs[::2]\n",
    "    return ' '.join(str(x) for x in runs)\n",
    "\n",
    "def rle2mask(rle, input_shape):\n",
    "    width, height = input_shape[:2]\n",
    "    \n",
    "    mask= np.zeros( width*height ).astype(np.uint8)\n",
    "    \n",
    "    array = np.asarray([int(x) for x in rle.split()])\n",
    "    starts = array[0::2]\n",
    "    starts-=1\n",
    "    lengths = array[1::2]\n",
    "\n",
    "    current_position = 0\n",
    "    for index, start in enumerate(starts):\n",
    "        mask[int(start):int(start+lengths[index])] = 1\n",
    "        current_position += lengths[index]\n",
    "        \n",
    "    return mask.reshape(height, width).T\n",
    "\n",
    "\n",
    "def build_rles(masks):\n",
    "    width, height, depth = masks.shape\n",
    "    \n",
    "    rles = [mask2rle(masks[:, :, i])\n",
    "            for i in range(depth)]\n",
    "    \n",
    "    return rles"
   ]
  },
  {
   "cell_type": "markdown",
   "metadata": {
    "_cell_guid": "b1076dfc-b9ad-4769-8c92-a6c4dae69d19",
    "_uuid": "8f2839f25d086af736a60e9eeb907d3b93b6e0e5",
    "papermill": {
     "duration": 0.017032,
     "end_time": "2021-03-21T04:01:46.709210",
     "exception": false,
     "start_time": "2021-03-21T04:01:46.692178",
     "status": "completed"
    },
    "tags": []
   },
   "source": [
    "## Data Generator"
   ]
  },
  {
   "cell_type": "code",
   "execution_count": 10,
   "metadata": {
    "execution": {
     "iopub.execute_input": "2021-03-21T04:01:46.749317Z",
     "iopub.status.busy": "2021-03-21T04:01:46.748673Z",
     "iopub.status.idle": "2021-03-21T04:01:47.812694Z",
     "shell.execute_reply": "2021-03-21T04:01:47.814114Z"
    },
    "papermill": {
     "duration": 1.087786,
     "end_time": "2021-03-21T04:01:47.814373",
     "exception": false,
     "start_time": "2021-03-21T04:01:46.726587",
     "status": "completed"
    },
    "tags": []
   },
   "outputs": [],
   "source": [
    "from albumentations import (\n",
    "    HorizontalFlip, VerticalFlip, IAAPerspective, ShiftScaleRotate, CLAHE, RandomRotate90,\n",
    "    Transpose, ShiftScaleRotate, Blur, OpticalDistortion, GridDistortion, HueSaturationValue,\n",
    "    IAAAdditiveGaussianNoise, GaussNoise, MotionBlur, MedianBlur, IAAPiecewiseAffine,\n",
    "    IAASharpen, IAAEmboss, RandomContrast, RandomBrightness, Flip, OneOf, Compose, RandomGamma, Rotate,IAAAffine\n",
    ")\n",
    "aug_null = <YOUR_CODE_HERE>([])\n",
    "aug = Compose([ \n",
    "    Blur(p=0.5, blur_limit=2),\n",
    "    #IAAAffine(p=0.5, shear=5),\n",
    "    HorizontalFlip(p=0.5),              \n",
    "    Rotate(limit=5, p=0.3),\n",
    "    VerticalFlip(p=0.5), \n",
    "])"
   ]
  },
  {
   "cell_type": "code",
   "execution_count": 11,
   "metadata": {
    "_cell_guid": "b1076dfc-b9ad-4769-8c92-a6c4dae69d19",
    "_uuid": "8f2839f25d086af736a60e9eeb907d3b93b6e0e5",
    "execution": {
     "iopub.execute_input": "2021-03-21T04:01:47.887272Z",
     "iopub.status.busy": "2021-03-21T04:01:47.886409Z",
     "iopub.status.idle": "2021-03-21T04:01:47.907275Z",
     "shell.execute_reply": "2021-03-21T04:01:47.908291Z"
    },
    "papermill": {
     "duration": 0.063222,
     "end_time": "2021-03-21T04:01:47.908482",
     "exception": false,
     "start_time": "2021-03-21T04:01:47.845260",
     "status": "completed"
    },
    "tags": []
   },
   "outputs": [],
   "source": [
    "class DataGenerator(keras.utils.Sequence):\n",
    "    'Generates data for Keras'\n",
    "    def __init__(self, list_IDs, df, target_df=None, mode='fit',\n",
    "                 base_path='../input/severstal-steel-defect-detection/train_images',\n",
    "                 batch_size=32, dim=(256, 1600), n_channels=1,\n",
    "                 n_classes=4, random_state=2021, shuffle=True,\n",
    "                aug=aug_null):\n",
    "        self.dim = dim\n",
    "        self.batch_size = batch_size\n",
    "        self.df = df\n",
    "        self.mode = mode\n",
    "        self.base_path = base_path\n",
    "        self.target_df = target_df\n",
    "        self.list_IDs = list_IDs\n",
    "        self.n_channels = n_channels\n",
    "        self.n_classes = n_classes\n",
    "        self.shuffle = shuffle\n",
    "        self.random_state = random_state\n",
    "        self.aug = aug\n",
    "        \n",
    "        self.on_epoch_end()\n",
    "\n",
    "    def __len__(self):\n",
    "        'Denotes the number of batches per epoch'\n",
    "        return int(np.floor(len(self.list_IDs) / self.batch_size))\n",
    "\n",
    "    def __getitem__(self, index):\n",
    "        'Generate one batch of data'\n",
    "        # Generate indexes of the batch\n",
    "        indexes = self.indexes[index*self.batch_size:(index+1)*self.batch_size]\n",
    "\n",
    "        # Find list of IDs\n",
    "        list_IDs_batch = [self.list_IDs[k] for k in indexes]\n",
    "        \n",
    "        X = self.__generate_X(list_IDs_batch)\n",
    "        if self.mode == 'fit':\n",
    "            y = self.__generate_y(list_IDs_batch)\n",
    "            #print(np.shape(y))\n",
    "            #print(len(X))\n",
    "            \n",
    "            for img in range(len(X)):\n",
    "                augmented = self.aug(<YOUR_CODE_HERE>=X[img], <YOUR_CODE_HERE>=y[img] )\n",
    "                \n",
    "                X[img] = augmented['image']\n",
    "                y[img] = augmented['mask'] \n",
    "            return X, y\n",
    "        \n",
    "        elif self.mode == 'predict':\n",
    "            return X\n",
    "\n",
    "        else:\n",
    "            raise AttributeError('The mode parameter should be set to \"fit\" or \"predict\".')\n",
    "        \n",
    "    def on_epoch_end(self):\n",
    "        'Updates indexes after each epoch'\n",
    "        self.indexes = np.arange(len(self.list_IDs))\n",
    "        if self.shuffle == True:\n",
    "            np.random.seed(self.random_state)\n",
    "            np.random.shuffle(self.indexes)\n",
    "    \n",
    "    def __generate_X(self, list_IDs_batch):\n",
    "        'Generates data containing batch_size samples'\n",
    "        # Initialization\n",
    "        X = np.empty((self.batch_size, *self.dim, self.n_channels))\n",
    "        \n",
    "        # Generate data\n",
    "        for i, ID in enumerate(list_IDs_batch):\n",
    "            im_name = self.df['ImageId'].iloc[ID]\n",
    "            img_path = f\"{self.base_path}/{im_name}\"\n",
    "            img = self.__load_grayscale(img_path)\n",
    "            \n",
    "            # Store samples\n",
    "            X[i,] = img\n",
    "\n",
    "        return X\n",
    "    \n",
    "    def __generate_y(self, list_IDs_batch):\n",
    "        y = np.empty((self.batch_size, *self.dim, self.n_classes), dtype=int)\n",
    "        \n",
    "        for i, ID in enumerate(list_IDs_batch):\n",
    "            #print()\n",
    "            #print(\"i\",i)\n",
    "            #print(\"ID\",ID)\n",
    "            im_name = self.df['ImageId'].iloc[ID]\n",
    "            image_df = self.target_df[self.target_df['ImageId'] == im_name].copy().reset_index()\n",
    "            #print(\"image_df:\",image_df)\n",
    "\n",
    "            masks = np.zeros((*self.dim, self.n_classes))\n",
    "            \n",
    "            for j in range(len(image_df)):\n",
    "                #print(j)\n",
    "                rle = image_df.loc[j,'EncodedPixels']\n",
    "                cls =  image_df.loc[j,'ClassId']\n",
    "                masks[:, :, cls-1] = rle2mask(rle, self.dim)\n",
    "    \n",
    "            y[i, ] = masks\n",
    "\n",
    "        return y\n",
    "    \n",
    "    def __load_grayscale(self, img_path):\n",
    "        img = cv2.imread(img_path, cv2.IMREAD_GRAYSCALE)\n",
    "        img = img.astype(np.float32) / 255.\n",
    "        img = np.expand_dims(img, axis=-1)\n",
    "\n",
    "        return img\n",
    "    \n",
    "    def __load_rgb(self, img_path):\n",
    "        img = cv2.imread(img_path)\n",
    "        img = cv2.cvtColor(img, cv2.COLOR_BGR2RGB)\n",
    "        img = img.astype(np.float32) / 255.\n",
    "\n",
    "        return img"
   ]
  },
  {
   "cell_type": "code",
   "execution_count": 12,
   "metadata": {
    "_cell_guid": "b1076dfc-b9ad-4769-8c92-a6c4dae69d19",
    "_uuid": "8f2839f25d086af736a60e9eeb907d3b93b6e0e5",
    "execution": {
     "iopub.execute_input": "2021-03-21T04:01:47.981927Z",
     "iopub.status.busy": "2021-03-21T04:01:47.979962Z",
     "iopub.status.idle": "2021-03-21T04:01:47.982569Z",
     "shell.execute_reply": "2021-03-21T04:01:47.983006Z"
    },
    "papermill": {
     "duration": 0.044014,
     "end_time": "2021-03-21T04:01:47.983142",
     "exception": false,
     "start_time": "2021-03-21T04:01:47.939128",
     "status": "completed"
    },
    "tags": []
   },
   "outputs": [],
   "source": [
    "BATCH_SIZE = 16\n",
    "\n",
    "train_idx, val_idx = train_test_split(\n",
    "    mask_count_df.index, \n",
    "    random_state=2021, \n",
    "    test_size=0.2\n",
    ")\n",
    "\n",
    "train_generator = DataGenerator(\n",
    "    train_idx, \n",
    "    df=mask_count_df,\n",
    "    target_df=train_df,\n",
    "    batch_size=BATCH_SIZE, \n",
    "    n_classes=4,\n",
    "    aug=aug \n",
    ")\n",
    "\n",
    "val_generator = DataGenerator(\n",
    "    val_idx, \n",
    "    df=mask_count_df,\n",
    "    target_df=train_df,\n",
    "    batch_size=BATCH_SIZE, \n",
    "    n_classes=4\n",
    ")"
   ]
  },
  {
   "cell_type": "markdown",
   "metadata": {
    "_cell_guid": "b1076dfc-b9ad-4769-8c92-a6c4dae69d19",
    "_uuid": "8f2839f25d086af736a60e9eeb907d3b93b6e0e5",
    "papermill": {
     "duration": 0.018027,
     "end_time": "2021-03-21T04:01:48.018891",
     "exception": false,
     "start_time": "2021-03-21T04:01:48.000864",
     "status": "completed"
    },
    "tags": []
   },
   "source": [
    "## Model"
   ]
  },
  {
   "cell_type": "code",
   "execution_count": 13,
   "metadata": {
    "_cell_guid": "b1076dfc-b9ad-4769-8c92-a6c4dae69d19",
    "_uuid": "8f2839f25d086af736a60e9eeb907d3b93b6e0e5",
    "execution": {
     "iopub.execute_input": "2021-03-21T04:01:48.058609Z",
     "iopub.status.busy": "2021-03-21T04:01:48.058020Z",
     "iopub.status.idle": "2021-03-21T04:01:48.061949Z",
     "shell.execute_reply": "2021-03-21T04:01:48.061383Z"
    },
    "papermill": {
     "duration": 0.025661,
     "end_time": "2021-03-21T04:01:48.062109",
     "exception": false,
     "start_time": "2021-03-21T04:01:48.036448",
     "status": "completed"
    },
    "tags": []
   },
   "outputs": [],
   "source": [
    "def dice_coef(y_true, y_pred, smooth=1):\n",
    "    y_true_f = K.flatten(y_true)\n",
    "    y_pred_f = K.flatten(y_pred)\n",
    "    intersection = K.sum(y_true_f * y_pred_f)\n",
    "    return (2. * intersection + smooth) / (K.sum(y_true_f) + K.sum(y_pred_f) + smooth)"
   ]
  },
  {
   "cell_type": "code",
   "execution_count": 14,
   "metadata": {
    "_cell_guid": "b1076dfc-b9ad-4769-8c92-a6c4dae69d19",
    "_uuid": "8f2839f25d086af736a60e9eeb907d3b93b6e0e5",
    "execution": {
     "iopub.execute_input": "2021-03-21T04:01:48.116114Z",
     "iopub.status.busy": "2021-03-21T04:01:48.104769Z",
     "iopub.status.idle": "2021-03-21T04:01:48.118258Z",
     "shell.execute_reply": "2021-03-21T04:01:48.118624Z"
    },
    "papermill": {
     "duration": 0.038856,
     "end_time": "2021-03-21T04:01:48.118742",
     "exception": false,
     "start_time": "2021-03-21T04:01:48.079886",
     "status": "completed"
    },
    "tags": []
   },
   "outputs": [],
   "source": [
    "def build_model(input_shape):\n",
    "    inputs = Input(input_shape)\n",
    "\n",
    "    c1 = Conv2D(8, (3, 3), activation='relu', padding='same') (inputs)\n",
    "    c1 = Conv2D(8, (3, 3), activation='relu', padding='same') (c1)\n",
    "    p1 = MaxPooling2D((2, 2)) (c1)\n",
    "\n",
    "    c2 = Conv2D(16, (3, 3), activation='relu', padding='same') (p1)\n",
    "    c2 = Conv2D(16, (3, 3), activation='relu', padding='same') (c2)\n",
    "    p2 = MaxPooling2D((2, 2)) (c2)\n",
    "\n",
    "    c3 = Conv2D(32, (3, 3), activation='relu', padding='same') (p2)\n",
    "    c3 = Conv2D(32, (3, 3), activation='relu', padding='same') (c3)\n",
    "    p3 = MaxPooling2D((2, 2)) (c3)\n",
    "\n",
    "    c4 = Conv2D(64, (3, 3), activation='relu', padding='same') (p3)\n",
    "    c4 = Conv2D(64, (3, 3), activation='relu', padding='same') (c4)\n",
    "    p4 = MaxPooling2D(pool_size=(2, 2)) (c4)\n",
    "\n",
    "    c5 = Conv2D(64, (3, 3), activation='relu', padding='same') (p4)\n",
    "    c5 = Conv2D(64, (3, 3), activation='relu', padding='same') (c5)\n",
    "    p5 = MaxPooling2D(pool_size=(2, 2)) (c5)\n",
    "\n",
    "    c55 = Conv2D(128, (3, 3), activation='relu', padding='same') (p5)\n",
    "    c55 = Conv2D(128, (3, 3), activation='relu', padding='same') (c55)\n",
    "\n",
    "    u6 = Conv2DTranspose(64, (2, 2), strides=(2, 2), padding='same') (c55)\n",
    "    u6 = concatenate([u6, c5])\n",
    "    c6 = Conv2D(64, (3, 3), activation='relu', padding='same') (u6)\n",
    "    c6 = Conv2D(64, (3, 3), activation='relu', padding='same') (c6)\n",
    "\n",
    "    u71 = Conv2DTranspose(32, (2, 2), strides=(2, 2), padding='same') (c6)\n",
    "    u71 = concatenate([u71, c4])\n",
    "    c71 = Conv2D(32, (3, 3), activation='relu', padding='same') (u71)\n",
    "    c61 = Conv2D(32, (3, 3), activation='relu', padding='same') (c71)\n",
    "\n",
    "    u7 = Conv2DTranspose(32, (2, 2), strides=(2, 2), padding='same') (c61)\n",
    "    u7 = concatenate([u7, c3])\n",
    "    c7 = Conv2D(32, (3, 3), activation='relu', padding='same') (u7)\n",
    "    c7 = Conv2D(32, (3, 3), activation='relu', padding='same') (c7)\n",
    "\n",
    "    u8 = Conv2DTranspose(16, (2, 2), strides=(2, 2), padding='same') (c7)\n",
    "    u8 = concatenate([u8, c2])\n",
    "    c8 = Conv2D(16, (3, 3), activation='relu', padding='same') (u8)\n",
    "    c8 = Conv2D(16, (3, 3), activation='relu', padding='same') (c8)\n",
    "\n",
    "    u9 = Conv2DTranspose(8, (2, 2), strides=(2, 2), padding='same') (c8)\n",
    "    u9 = concatenate([u9, c1], axis=3)\n",
    "    c9 = Conv2D(8, (3, 3), activation='relu', padding='same') (u9)\n",
    "    c9 = Conv2D(8, (3, 3), activation='relu', padding='same') (c9)\n",
    "\n",
    "    outputs = Conv2D(4, (1, 1), activation='sigmoid') (c9)\n",
    "\n",
    "    model = Model(inputs=[inputs], outputs=[outputs])\n",
    "    model.compile(optimizer='adam', loss='binary_crossentropy', metrics=[dice_coef])\n",
    "    \n",
    "    return model"
   ]
  },
  {
   "cell_type": "code",
   "execution_count": 15,
   "metadata": {
    "_cell_guid": "b1076dfc-b9ad-4769-8c92-a6c4dae69d19",
    "_uuid": "8f2839f25d086af736a60e9eeb907d3b93b6e0e5",
    "execution": {
     "iopub.execute_input": "2021-03-21T04:01:48.157106Z",
     "iopub.status.busy": "2021-03-21T04:01:48.156583Z",
     "iopub.status.idle": "2021-03-21T04:01:51.381769Z",
     "shell.execute_reply": "2021-03-21T04:01:51.382957Z"
    },
    "papermill": {
     "duration": 3.247118,
     "end_time": "2021-03-21T04:01:51.383168",
     "exception": false,
     "start_time": "2021-03-21T04:01:48.136050",
     "status": "completed"
    },
    "tags": []
   },
   "outputs": [
    {
     "name": "stdout",
     "output_type": "stream",
     "text": [
      "Model: \"model\"\n",
      "__________________________________________________________________________________________________\n",
      "Layer (type)                    Output Shape         Param #     Connected to                     \n",
      "==================================================================================================\n",
      "input_1 (InputLayer)            [(None, 256, 1600, 1 0                                            \n",
      "__________________________________________________________________________________________________\n",
      "conv2d (Conv2D)                 (None, 256, 1600, 8) 80          input_1[0][0]                    \n",
      "__________________________________________________________________________________________________\n",
      "conv2d_1 (Conv2D)               (None, 256, 1600, 8) 584         conv2d[0][0]                     \n",
      "__________________________________________________________________________________________________\n",
      "max_pooling2d (MaxPooling2D)    (None, 128, 800, 8)  0           conv2d_1[0][0]                   \n",
      "__________________________________________________________________________________________________\n",
      "conv2d_2 (Conv2D)               (None, 128, 800, 16) 1168        max_pooling2d[0][0]              \n",
      "__________________________________________________________________________________________________\n",
      "conv2d_3 (Conv2D)               (None, 128, 800, 16) 2320        conv2d_2[0][0]                   \n",
      "__________________________________________________________________________________________________\n",
      "max_pooling2d_1 (MaxPooling2D)  (None, 64, 400, 16)  0           conv2d_3[0][0]                   \n",
      "__________________________________________________________________________________________________\n",
      "conv2d_4 (Conv2D)               (None, 64, 400, 32)  4640        max_pooling2d_1[0][0]            \n",
      "__________________________________________________________________________________________________\n",
      "conv2d_5 (Conv2D)               (None, 64, 400, 32)  9248        conv2d_4[0][0]                   \n",
      "__________________________________________________________________________________________________\n",
      "max_pooling2d_2 (MaxPooling2D)  (None, 32, 200, 32)  0           conv2d_5[0][0]                   \n",
      "__________________________________________________________________________________________________\n",
      "conv2d_6 (Conv2D)               (None, 32, 200, 64)  18496       max_pooling2d_2[0][0]            \n",
      "__________________________________________________________________________________________________\n",
      "conv2d_7 (Conv2D)               (None, 32, 200, 64)  36928       conv2d_6[0][0]                   \n",
      "__________________________________________________________________________________________________\n",
      "max_pooling2d_3 (MaxPooling2D)  (None, 16, 100, 64)  0           conv2d_7[0][0]                   \n",
      "__________________________________________________________________________________________________\n",
      "conv2d_8 (Conv2D)               (None, 16, 100, 64)  36928       max_pooling2d_3[0][0]            \n",
      "__________________________________________________________________________________________________\n",
      "conv2d_9 (Conv2D)               (None, 16, 100, 64)  36928       conv2d_8[0][0]                   \n",
      "__________________________________________________________________________________________________\n",
      "max_pooling2d_4 (MaxPooling2D)  (None, 8, 50, 64)    0           conv2d_9[0][0]                   \n",
      "__________________________________________________________________________________________________\n",
      "conv2d_10 (Conv2D)              (None, 8, 50, 128)   73856       max_pooling2d_4[0][0]            \n",
      "__________________________________________________________________________________________________\n",
      "conv2d_11 (Conv2D)              (None, 8, 50, 128)   147584      conv2d_10[0][0]                  \n",
      "__________________________________________________________________________________________________\n",
      "conv2d_transpose (Conv2DTranspo (None, 16, 100, 64)  32832       conv2d_11[0][0]                  \n",
      "__________________________________________________________________________________________________\n",
      "concatenate (Concatenate)       (None, 16, 100, 128) 0           conv2d_transpose[0][0]           \n",
      "                                                                 conv2d_9[0][0]                   \n",
      "__________________________________________________________________________________________________\n",
      "conv2d_12 (Conv2D)              (None, 16, 100, 64)  73792       concatenate[0][0]                \n",
      "__________________________________________________________________________________________________\n",
      "conv2d_13 (Conv2D)              (None, 16, 100, 64)  36928       conv2d_12[0][0]                  \n",
      "__________________________________________________________________________________________________\n",
      "conv2d_transpose_1 (Conv2DTrans (None, 32, 200, 32)  8224        conv2d_13[0][0]                  \n",
      "__________________________________________________________________________________________________\n",
      "concatenate_1 (Concatenate)     (None, 32, 200, 96)  0           conv2d_transpose_1[0][0]         \n",
      "                                                                 conv2d_7[0][0]                   \n",
      "__________________________________________________________________________________________________\n",
      "conv2d_14 (Conv2D)              (None, 32, 200, 32)  27680       concatenate_1[0][0]              \n",
      "__________________________________________________________________________________________________\n",
      "conv2d_15 (Conv2D)              (None, 32, 200, 32)  9248        conv2d_14[0][0]                  \n",
      "__________________________________________________________________________________________________\n",
      "conv2d_transpose_2 (Conv2DTrans (None, 64, 400, 32)  4128        conv2d_15[0][0]                  \n",
      "__________________________________________________________________________________________________\n",
      "concatenate_2 (Concatenate)     (None, 64, 400, 64)  0           conv2d_transpose_2[0][0]         \n",
      "                                                                 conv2d_5[0][0]                   \n",
      "__________________________________________________________________________________________________\n",
      "conv2d_16 (Conv2D)              (None, 64, 400, 32)  18464       concatenate_2[0][0]              \n",
      "__________________________________________________________________________________________________\n",
      "conv2d_17 (Conv2D)              (None, 64, 400, 32)  9248        conv2d_16[0][0]                  \n",
      "__________________________________________________________________________________________________\n",
      "conv2d_transpose_3 (Conv2DTrans (None, 128, 800, 16) 2064        conv2d_17[0][0]                  \n",
      "__________________________________________________________________________________________________\n",
      "concatenate_3 (Concatenate)     (None, 128, 800, 32) 0           conv2d_transpose_3[0][0]         \n",
      "                                                                 conv2d_3[0][0]                   \n",
      "__________________________________________________________________________________________________\n",
      "conv2d_18 (Conv2D)              (None, 128, 800, 16) 4624        concatenate_3[0][0]              \n",
      "__________________________________________________________________________________________________\n",
      "conv2d_19 (Conv2D)              (None, 128, 800, 16) 2320        conv2d_18[0][0]                  \n",
      "__________________________________________________________________________________________________\n",
      "conv2d_transpose_4 (Conv2DTrans (None, 256, 1600, 8) 520         conv2d_19[0][0]                  \n",
      "__________________________________________________________________________________________________\n",
      "concatenate_4 (Concatenate)     (None, 256, 1600, 16 0           conv2d_transpose_4[0][0]         \n",
      "                                                                 conv2d_1[0][0]                   \n",
      "__________________________________________________________________________________________________\n",
      "conv2d_20 (Conv2D)              (None, 256, 1600, 8) 1160        concatenate_4[0][0]              \n",
      "__________________________________________________________________________________________________\n",
      "conv2d_21 (Conv2D)              (None, 256, 1600, 8) 584         conv2d_20[0][0]                  \n",
      "__________________________________________________________________________________________________\n",
      "conv2d_22 (Conv2D)              (None, 256, 1600, 4) 36          conv2d_21[0][0]                  \n",
      "==================================================================================================\n",
      "Total params: 600,612\n",
      "Trainable params: 600,612\n",
      "Non-trainable params: 0\n",
      "__________________________________________________________________________________________________\n"
     ]
    }
   ],
   "source": [
    "model = build_model((256, 1600, 1))\n",
    "model.summary()"
   ]
  },
  {
   "cell_type": "code",
   "execution_count": 16,
   "metadata": {
    "_cell_guid": "b1076dfc-b9ad-4769-8c92-a6c4dae69d19",
    "_uuid": "8f2839f25d086af736a60e9eeb907d3b93b6e0e5",
    "execution": {
     "iopub.execute_input": "2021-03-21T04:01:51.436388Z",
     "iopub.status.busy": "2021-03-21T04:01:51.435797Z",
     "iopub.status.idle": "2021-03-21T10:21:30.771058Z",
     "shell.execute_reply": "2021-03-21T10:21:30.770374Z"
    },
    "papermill": {
     "duration": 22779.359296,
     "end_time": "2021-03-21T10:21:30.771228",
     "exception": false,
     "start_time": "2021-03-21T04:01:51.411932",
     "status": "completed"
    },
    "tags": []
   },
   "outputs": [
    {
     "name": "stdout",
     "output_type": "stream",
     "text": [
      "Epoch 1/100\n",
      "333/333 - 295s - loss: 0.0972 - dice_coef: 0.0509 - val_loss: 0.0568 - val_dice_coef: 0.0956\n",
      "\n",
      "Epoch 00001: val_loss improved from inf to 0.05677, saving model to model.h5\n",
      "Epoch 2/100\n",
      "333/333 - 256s - loss: 0.0480 - dice_coef: 0.2048 - val_loss: 0.0411 - val_dice_coef: 0.2804\n",
      "\n",
      "Epoch 00002: val_loss improved from 0.05677 to 0.04114, saving model to model.h5\n",
      "Epoch 3/100\n",
      "333/333 - 260s - loss: 0.0404 - dice_coef: 0.3016 - val_loss: 0.0386 - val_dice_coef: 0.3187\n",
      "\n",
      "Epoch 00003: val_loss improved from 0.04114 to 0.03864, saving model to model.h5\n",
      "Epoch 4/100\n",
      "333/333 - 252s - loss: 0.0369 - dice_coef: 0.3557 - val_loss: 0.0373 - val_dice_coef: 0.4065\n",
      "\n",
      "Epoch 00004: val_loss improved from 0.03864 to 0.03731, saving model to model.h5\n",
      "Epoch 5/100\n",
      "333/333 - 260s - loss: 0.0352 - dice_coef: 0.3801 - val_loss: 0.0355 - val_dice_coef: 0.3305\n",
      "\n",
      "Epoch 00005: val_loss improved from 0.03731 to 0.03549, saving model to model.h5\n",
      "Epoch 6/100\n",
      "333/333 - 260s - loss: 0.0346 - dice_coef: 0.3890 - val_loss: 0.0342 - val_dice_coef: 0.4036\n",
      "\n",
      "Epoch 00006: val_loss improved from 0.03549 to 0.03419, saving model to model.h5\n",
      "Epoch 7/100\n",
      "333/333 - 263s - loss: 0.0340 - dice_coef: 0.3959 - val_loss: 0.0340 - val_dice_coef: 0.4235\n",
      "\n",
      "Epoch 00007: val_loss improved from 0.03419 to 0.03396, saving model to model.h5\n",
      "Epoch 8/100\n",
      "333/333 - 261s - loss: 0.0329 - dice_coef: 0.4128 - val_loss: 0.0320 - val_dice_coef: 0.4135\n",
      "\n",
      "Epoch 00008: val_loss improved from 0.03396 to 0.03196, saving model to model.h5\n",
      "Epoch 9/100\n",
      "333/333 - 261s - loss: 0.0325 - dice_coef: 0.4176 - val_loss: 0.0318 - val_dice_coef: 0.4095\n",
      "\n",
      "Epoch 00009: val_loss improved from 0.03196 to 0.03175, saving model to model.h5\n",
      "Epoch 10/100\n",
      "333/333 - 259s - loss: 0.0312 - dice_coef: 0.4318 - val_loss: 0.0332 - val_dice_coef: 0.3916\n",
      "\n",
      "Epoch 00010: val_loss did not improve from 0.03175\n",
      "Epoch 11/100\n",
      "333/333 - 259s - loss: 0.0310 - dice_coef: 0.4357 - val_loss: 0.0319 - val_dice_coef: 0.3790\n",
      "\n",
      "Epoch 00011: val_loss did not improve from 0.03175\n",
      "Epoch 12/100\n",
      "333/333 - 258s - loss: 0.0302 - dice_coef: 0.4473 - val_loss: 0.0318 - val_dice_coef: 0.4190\n",
      "\n",
      "Epoch 00012: val_loss did not improve from 0.03175\n",
      "Epoch 13/100\n",
      "333/333 - 257s - loss: 0.0298 - dice_coef: 0.4548 - val_loss: 0.0302 - val_dice_coef: 0.4237\n",
      "\n",
      "Epoch 00013: val_loss improved from 0.03175 to 0.03016, saving model to model.h5\n",
      "Epoch 14/100\n",
      "333/333 - 252s - loss: 0.0293 - dice_coef: 0.4655 - val_loss: 0.0361 - val_dice_coef: 0.4312\n",
      "\n",
      "Epoch 00014: val_loss did not improve from 0.03016\n",
      "Epoch 15/100\n",
      "333/333 - 251s - loss: 0.0286 - dice_coef: 0.4728 - val_loss: 0.0279 - val_dice_coef: 0.4541\n",
      "\n",
      "Epoch 00015: val_loss improved from 0.03016 to 0.02794, saving model to model.h5\n",
      "Epoch 16/100\n",
      "333/333 - 261s - loss: 0.0281 - dice_coef: 0.4821 - val_loss: 0.0281 - val_dice_coef: 0.5166\n",
      "\n",
      "Epoch 00016: val_loss did not improve from 0.02794\n",
      "Epoch 17/100\n",
      "333/333 - 260s - loss: 0.0275 - dice_coef: 0.4910 - val_loss: 0.0301 - val_dice_coef: 0.4854\n",
      "\n",
      "Epoch 00017: val_loss did not improve from 0.02794\n",
      "Epoch 18/100\n",
      "333/333 - 259s - loss: 0.0273 - dice_coef: 0.4964 - val_loss: 0.0282 - val_dice_coef: 0.5189\n",
      "\n",
      "Epoch 00018: val_loss did not improve from 0.02794\n",
      "Epoch 19/100\n",
      "333/333 - 260s - loss: 0.0266 - dice_coef: 0.5048 - val_loss: 0.0276 - val_dice_coef: 0.4944\n",
      "\n",
      "Epoch 00019: val_loss improved from 0.02794 to 0.02760, saving model to model.h5\n",
      "Epoch 20/100\n",
      "333/333 - 259s - loss: 0.0272 - dice_coef: 0.4962 - val_loss: 0.0276 - val_dice_coef: 0.5432\n",
      "\n",
      "Epoch 00020: val_loss improved from 0.02760 to 0.02756, saving model to model.h5\n",
      "Epoch 21/100\n",
      "333/333 - 259s - loss: 0.0258 - dice_coef: 0.5166 - val_loss: 0.0262 - val_dice_coef: 0.5171\n",
      "\n",
      "Epoch 00021: val_loss improved from 0.02756 to 0.02616, saving model to model.h5\n",
      "Epoch 22/100\n",
      "333/333 - 259s - loss: 0.0260 - dice_coef: 0.5151 - val_loss: 0.0299 - val_dice_coef: 0.4938\n",
      "\n",
      "Epoch 00022: val_loss did not improve from 0.02616\n",
      "Epoch 23/100\n",
      "333/333 - 260s - loss: 0.0257 - dice_coef: 0.5229 - val_loss: 0.0312 - val_dice_coef: 0.4903\n",
      "\n",
      "Epoch 00023: val_loss did not improve from 0.02616\n",
      "Epoch 24/100\n",
      "333/333 - 261s - loss: 0.0253 - dice_coef: 0.5219 - val_loss: 0.0252 - val_dice_coef: 0.5618\n",
      "\n",
      "Epoch 00024: val_loss improved from 0.02616 to 0.02523, saving model to model.h5\n",
      "Epoch 25/100\n",
      "333/333 - 262s - loss: 0.0257 - dice_coef: 0.5186 - val_loss: 0.0297 - val_dice_coef: 0.4947\n",
      "\n",
      "Epoch 00025: val_loss did not improve from 0.02523\n",
      "Epoch 26/100\n",
      "333/333 - 261s - loss: 0.0256 - dice_coef: 0.5221 - val_loss: 0.0270 - val_dice_coef: 0.5169\n",
      "\n",
      "Epoch 00026: val_loss did not improve from 0.02523\n",
      "Epoch 27/100\n",
      "333/333 - 260s - loss: 0.0247 - dice_coef: 0.5336 - val_loss: 0.0253 - val_dice_coef: 0.5073\n",
      "\n",
      "Epoch 00027: val_loss did not improve from 0.02523\n",
      "Epoch 28/100\n",
      "333/333 - 262s - loss: 0.0244 - dice_coef: 0.5371 - val_loss: 0.0243 - val_dice_coef: 0.5654\n",
      "\n",
      "Epoch 00028: val_loss improved from 0.02523 to 0.02435, saving model to model.h5\n",
      "Epoch 29/100\n",
      "333/333 - 263s - loss: 0.0240 - dice_coef: 0.5434 - val_loss: 0.0244 - val_dice_coef: 0.5669\n",
      "\n",
      "Epoch 00029: val_loss did not improve from 0.02435\n",
      "Epoch 30/100\n",
      "333/333 - 262s - loss: 0.0240 - dice_coef: 0.5449 - val_loss: 0.0250 - val_dice_coef: 0.5501\n",
      "\n",
      "Epoch 00030: val_loss did not improve from 0.02435\n",
      "Epoch 31/100\n",
      "333/333 - 261s - loss: 0.0241 - dice_coef: 0.5433 - val_loss: 0.0247 - val_dice_coef: 0.5522\n",
      "\n",
      "Epoch 00031: val_loss did not improve from 0.02435\n",
      "Epoch 32/100\n",
      "333/333 - 261s - loss: 0.0237 - dice_coef: 0.5510 - val_loss: 0.0256 - val_dice_coef: 0.5324\n",
      "\n",
      "Epoch 00032: val_loss did not improve from 0.02435\n",
      "Epoch 33/100\n",
      "333/333 - 261s - loss: 0.0234 - dice_coef: 0.5552 - val_loss: 0.0238 - val_dice_coef: 0.5381\n",
      "\n",
      "Epoch 00033: val_loss improved from 0.02435 to 0.02381, saving model to model.h5\n",
      "Epoch 34/100\n",
      "333/333 - 261s - loss: 0.0231 - dice_coef: 0.5586 - val_loss: 0.0239 - val_dice_coef: 0.5762\n",
      "\n",
      "Epoch 00034: val_loss did not improve from 0.02381\n",
      "Epoch 35/100\n",
      "333/333 - 260s - loss: 0.0235 - dice_coef: 0.5553 - val_loss: 0.0237 - val_dice_coef: 0.5685\n",
      "\n",
      "Epoch 00035: val_loss improved from 0.02381 to 0.02367, saving model to model.h5\n",
      "Epoch 36/100\n",
      "333/333 - 253s - loss: 0.0230 - dice_coef: 0.5610 - val_loss: 0.0234 - val_dice_coef: 0.5754\n",
      "\n",
      "Epoch 00036: val_loss improved from 0.02367 to 0.02344, saving model to model.h5\n",
      "Epoch 37/100\n",
      "333/333 - 260s - loss: 0.0231 - dice_coef: 0.5600 - val_loss: 0.0238 - val_dice_coef: 0.5595\n",
      "\n",
      "Epoch 00037: val_loss did not improve from 0.02344\n",
      "Epoch 38/100\n",
      "333/333 - 260s - loss: 0.0225 - dice_coef: 0.5685 - val_loss: 0.0243 - val_dice_coef: 0.5751\n",
      "\n",
      "Epoch 00038: val_loss did not improve from 0.02344\n",
      "Epoch 39/100\n",
      "333/333 - 259s - loss: 0.0226 - dice_coef: 0.5661 - val_loss: 0.0241 - val_dice_coef: 0.5551\n",
      "\n",
      "Epoch 00039: val_loss did not improve from 0.02344\n",
      "Epoch 40/100\n",
      "333/333 - 261s - loss: 0.0221 - dice_coef: 0.5752 - val_loss: 0.0238 - val_dice_coef: 0.5643\n",
      "\n",
      "Epoch 00040: val_loss did not improve from 0.02344\n",
      "Epoch 41/100\n",
      "333/333 - 262s - loss: 0.0227 - dice_coef: 0.5681 - val_loss: 0.0230 - val_dice_coef: 0.5655\n",
      "\n",
      "Epoch 00041: val_loss improved from 0.02344 to 0.02297, saving model to model.h5\n",
      "Epoch 42/100\n",
      "333/333 - 262s - loss: 0.0220 - dice_coef: 0.5771 - val_loss: 0.0238 - val_dice_coef: 0.5714\n",
      "\n",
      "Epoch 00042: val_loss did not improve from 0.02297\n",
      "Epoch 43/100\n",
      "333/333 - 261s - loss: 0.0227 - dice_coef: 0.5674 - val_loss: 0.0234 - val_dice_coef: 0.5798\n",
      "\n",
      "Epoch 00043: val_loss did not improve from 0.02297\n",
      "Epoch 44/100\n",
      "333/333 - 262s - loss: 0.0223 - dice_coef: 0.5724 - val_loss: 0.0229 - val_dice_coef: 0.5543\n",
      "\n",
      "Epoch 00044: val_loss improved from 0.02297 to 0.02286, saving model to model.h5\n",
      "Epoch 45/100\n",
      "333/333 - 261s - loss: 0.0223 - dice_coef: 0.5705 - val_loss: 0.0239 - val_dice_coef: 0.5724\n",
      "\n",
      "Epoch 00045: val_loss did not improve from 0.02286\n",
      "Epoch 46/100\n",
      "333/333 - 262s - loss: 0.0215 - dice_coef: 0.5852 - val_loss: 0.0234 - val_dice_coef: 0.5843\n",
      "\n",
      "Epoch 00046: val_loss did not improve from 0.02286\n",
      "Epoch 47/100\n",
      "333/333 - 263s - loss: 0.0217 - dice_coef: 0.5817 - val_loss: 0.0231 - val_dice_coef: 0.5812\n",
      "\n",
      "Epoch 00047: val_loss did not improve from 0.02286\n",
      "Epoch 48/100\n",
      "333/333 - 262s - loss: 0.0214 - dice_coef: 0.5879 - val_loss: 0.0237 - val_dice_coef: 0.5684\n",
      "\n",
      "Epoch 00048: val_loss did not improve from 0.02286\n",
      "Epoch 49/100\n",
      "333/333 - 263s - loss: 0.0215 - dice_coef: 0.5855 - val_loss: 0.0230 - val_dice_coef: 0.5762\n",
      "\n",
      "Epoch 00049: val_loss did not improve from 0.02286\n",
      "Epoch 50/100\n",
      "333/333 - 261s - loss: 0.0216 - dice_coef: 0.5846 - val_loss: 0.0232 - val_dice_coef: 0.5622\n",
      "\n",
      "Epoch 00050: val_loss did not improve from 0.02286\n",
      "Epoch 51/100\n",
      "333/333 - 262s - loss: 0.0214 - dice_coef: 0.5900 - val_loss: 0.0220 - val_dice_coef: 0.5836\n",
      "\n",
      "Epoch 00051: val_loss improved from 0.02286 to 0.02204, saving model to model.h5\n",
      "Epoch 52/100\n",
      "333/333 - 262s - loss: 0.0211 - dice_coef: 0.5927 - val_loss: 0.0235 - val_dice_coef: 0.5648\n",
      "\n",
      "Epoch 00052: val_loss did not improve from 0.02204\n",
      "Epoch 53/100\n",
      "333/333 - 261s - loss: 0.0211 - dice_coef: 0.5920 - val_loss: 0.0224 - val_dice_coef: 0.5769\n",
      "\n",
      "Epoch 00053: val_loss did not improve from 0.02204\n",
      "Epoch 54/100\n",
      "333/333 - 262s - loss: 0.0209 - dice_coef: 0.5950 - val_loss: 0.0240 - val_dice_coef: 0.5731\n",
      "\n",
      "Epoch 00054: val_loss did not improve from 0.02204\n",
      "Epoch 55/100\n",
      "333/333 - 261s - loss: 0.0211 - dice_coef: 0.5933 - val_loss: 0.0241 - val_dice_coef: 0.5447\n",
      "\n",
      "Epoch 00055: val_loss did not improve from 0.02204\n",
      "Epoch 56/100\n",
      "333/333 - 268s - loss: 0.0211 - dice_coef: 0.5899 - val_loss: 0.0229 - val_dice_coef: 0.5829\n",
      "\n",
      "Epoch 00056: val_loss did not improve from 0.02204\n",
      "Epoch 57/100\n",
      "333/333 - 265s - loss: 0.0205 - dice_coef: 0.6025 - val_loss: 0.0219 - val_dice_coef: 0.5915\n",
      "\n",
      "Epoch 00057: val_loss improved from 0.02204 to 0.02188, saving model to model.h5\n",
      "Epoch 58/100\n",
      "333/333 - 265s - loss: 0.0205 - dice_coef: 0.6002 - val_loss: 0.0252 - val_dice_coef: 0.5649\n",
      "\n",
      "Epoch 00058: val_loss did not improve from 0.02188\n",
      "Epoch 59/100\n",
      "333/333 - 262s - loss: 0.0206 - dice_coef: 0.5997 - val_loss: 0.0222 - val_dice_coef: 0.5784\n",
      "\n",
      "Epoch 00059: val_loss did not improve from 0.02188\n",
      "Epoch 60/100\n",
      "333/333 - 265s - loss: 0.0209 - dice_coef: 0.5964 - val_loss: 0.0237 - val_dice_coef: 0.5989\n",
      "\n",
      "Epoch 00060: val_loss did not improve from 0.02188\n",
      "Epoch 61/100\n",
      "333/333 - 265s - loss: 0.0203 - dice_coef: 0.6070 - val_loss: 0.0276 - val_dice_coef: 0.5523\n",
      "\n",
      "Epoch 00061: val_loss did not improve from 0.02188\n",
      "Epoch 62/100\n",
      "333/333 - 264s - loss: 0.0203 - dice_coef: 0.6030 - val_loss: 0.0223 - val_dice_coef: 0.6027\n",
      "\n",
      "Epoch 00062: val_loss did not improve from 0.02188\n",
      "Epoch 63/100\n",
      "333/333 - 262s - loss: 0.0204 - dice_coef: 0.6030 - val_loss: 0.0234 - val_dice_coef: 0.5876\n",
      "\n",
      "Epoch 00063: val_loss did not improve from 0.02188\n",
      "Epoch 64/100\n",
      "333/333 - 263s - loss: 0.0200 - dice_coef: 0.6128 - val_loss: 0.0231 - val_dice_coef: 0.5682\n",
      "\n",
      "Epoch 00064: val_loss did not improve from 0.02188\n",
      "Epoch 65/100\n",
      "333/333 - 262s - loss: 0.0197 - dice_coef: 0.6145 - val_loss: 0.0222 - val_dice_coef: 0.5963\n",
      "\n",
      "Epoch 00065: val_loss did not improve from 0.02188\n",
      "Epoch 66/100\n",
      "333/333 - 263s - loss: 0.0202 - dice_coef: 0.6065 - val_loss: 0.0222 - val_dice_coef: 0.6170\n",
      "\n",
      "Epoch 00066: val_loss did not improve from 0.02188\n",
      "Epoch 67/100\n",
      "333/333 - 263s - loss: 0.0197 - dice_coef: 0.6150 - val_loss: 0.0228 - val_dice_coef: 0.6037\n",
      "\n",
      "Epoch 00067: val_loss did not improve from 0.02188\n",
      "Epoch 68/100\n",
      "333/333 - 266s - loss: 0.0201 - dice_coef: 0.6088 - val_loss: 0.0224 - val_dice_coef: 0.6035\n",
      "\n",
      "Epoch 00068: val_loss did not improve from 0.02188\n",
      "Epoch 69/100\n",
      "333/333 - 264s - loss: 0.0193 - dice_coef: 0.6219 - val_loss: 0.0221 - val_dice_coef: 0.6086\n",
      "\n",
      "Epoch 00069: val_loss did not improve from 0.02188\n",
      "Epoch 70/100\n",
      "333/333 - 264s - loss: 0.0195 - dice_coef: 0.6197 - val_loss: 0.0226 - val_dice_coef: 0.6060\n",
      "\n",
      "Epoch 00070: val_loss did not improve from 0.02188\n",
      "Epoch 71/100\n",
      "333/333 - 264s - loss: 0.0193 - dice_coef: 0.6200 - val_loss: 0.0230 - val_dice_coef: 0.6240\n",
      "\n",
      "Epoch 00071: val_loss did not improve from 0.02188\n",
      "Epoch 72/100\n",
      "333/333 - 265s - loss: 0.0193 - dice_coef: 0.6207 - val_loss: 0.0222 - val_dice_coef: 0.5903\n",
      "\n",
      "Epoch 00072: val_loss did not improve from 0.02188\n",
      "Epoch 73/100\n",
      "333/333 - 264s - loss: 0.0191 - dice_coef: 0.6257 - val_loss: 0.0240 - val_dice_coef: 0.6059\n",
      "\n",
      "Epoch 00073: val_loss did not improve from 0.02188\n",
      "Epoch 74/100\n",
      "333/333 - 263s - loss: 0.0191 - dice_coef: 0.6273 - val_loss: 0.0316 - val_dice_coef: 0.5410\n",
      "\n",
      "Epoch 00074: val_loss did not improve from 0.02188\n",
      "Epoch 75/100\n",
      "333/333 - 263s - loss: 0.0193 - dice_coef: 0.6211 - val_loss: 0.0223 - val_dice_coef: 0.6059\n",
      "\n",
      "Epoch 00075: val_loss did not improve from 0.02188\n",
      "Epoch 76/100\n",
      "333/333 - 261s - loss: 0.0195 - dice_coef: 0.6188 - val_loss: 0.0222 - val_dice_coef: 0.6069\n",
      "\n",
      "Epoch 00076: val_loss did not improve from 0.02188\n",
      "Epoch 77/100\n",
      "333/333 - 262s - loss: 0.0188 - dice_coef: 0.6306 - val_loss: 0.0223 - val_dice_coef: 0.6033\n",
      "\n",
      "Epoch 00077: val_loss did not improve from 0.02188\n",
      "Epoch 78/100\n",
      "333/333 - 261s - loss: 0.0186 - dice_coef: 0.6315 - val_loss: 0.0225 - val_dice_coef: 0.6170\n",
      "\n",
      "Epoch 00078: val_loss did not improve from 0.02188\n",
      "Epoch 79/100\n",
      "333/333 - 262s - loss: 0.0189 - dice_coef: 0.6287 - val_loss: 0.0231 - val_dice_coef: 0.5987\n",
      "\n",
      "Epoch 00079: val_loss did not improve from 0.02188\n",
      "Epoch 80/100\n",
      "333/333 - 263s - loss: 0.0185 - dice_coef: 0.6336 - val_loss: 0.0226 - val_dice_coef: 0.5961\n",
      "\n",
      "Epoch 00080: val_loss did not improve from 0.02188\n",
      "Epoch 81/100\n",
      "333/333 - 263s - loss: 0.0185 - dice_coef: 0.6355 - val_loss: 0.0235 - val_dice_coef: 0.5946\n",
      "\n",
      "Epoch 00081: val_loss did not improve from 0.02188\n",
      "Epoch 82/100\n",
      "333/333 - 264s - loss: 0.0184 - dice_coef: 0.6374 - val_loss: 0.0219 - val_dice_coef: 0.6248\n",
      "\n",
      "Epoch 00082: val_loss did not improve from 0.02188\n",
      "Epoch 83/100\n",
      "333/333 - 265s - loss: 0.0182 - dice_coef: 0.6416 - val_loss: 0.0231 - val_dice_coef: 0.6091\n",
      "\n",
      "Epoch 00083: val_loss did not improve from 0.02188\n",
      "Epoch 84/100\n",
      "333/333 - 266s - loss: 0.0192 - dice_coef: 0.6270 - val_loss: 0.0228 - val_dice_coef: 0.6090\n",
      "\n",
      "Epoch 00084: val_loss did not improve from 0.02188\n",
      "Epoch 85/100\n",
      "333/333 - 265s - loss: 0.0183 - dice_coef: 0.6395 - val_loss: 0.0228 - val_dice_coef: 0.6076\n",
      "\n",
      "Epoch 00085: val_loss did not improve from 0.02188\n",
      "Epoch 86/100\n",
      "333/333 - 261s - loss: 0.0180 - dice_coef: 0.6429 - val_loss: 0.0261 - val_dice_coef: 0.5717\n",
      "\n",
      "Epoch 00086: val_loss did not improve from 0.02188\n",
      "Epoch 87/100\n",
      "333/333 - 263s - loss: 0.0182 - dice_coef: 0.6412 - val_loss: 0.0231 - val_dice_coef: 0.5983\n",
      "\n",
      "Epoch 00087: val_loss did not improve from 0.02188\n",
      "Epoch 00087: early stopping\n"
     ]
    }
   ],
   "source": [
    "mc = ModelCheckpoint(\n",
    "    'model.h5', \n",
    "    monitor='val_loss', \n",
    "    verbose=1, \n",
    "    save_best_only=True, \n",
    "    save_weights_only=False,\n",
    "    mode='auto'\n",
    ")\n",
    "\n",
    "es = EarlyStopping(monitor='val_loss', mode='min', verbose=2, patience=30)\n",
    "\n",
    "history = model.fit(\n",
    "    train_generator,\n",
    "    validation_data=val_generator,\n",
    "    callbacks=[mc,es],\n",
    "    verbose=2, \n",
    "    epochs=100\n",
    ")"
   ]
  },
  {
   "cell_type": "markdown",
   "metadata": {
    "_cell_guid": "b1076dfc-b9ad-4769-8c92-a6c4dae69d19",
    "_uuid": "8f2839f25d086af736a60e9eeb907d3b93b6e0e5",
    "papermill": {
     "duration": 0.103021,
     "end_time": "2021-03-21T10:21:30.978810",
     "exception": false,
     "start_time": "2021-03-21T10:21:30.875789",
     "status": "completed"
    },
    "tags": []
   },
   "source": [
    "## Evaluation"
   ]
  },
  {
   "cell_type": "code",
   "execution_count": 17,
   "metadata": {
    "execution": {
     "iopub.execute_input": "2021-03-21T10:21:31.178059Z",
     "iopub.status.busy": "2021-03-21T10:21:31.177142Z",
     "iopub.status.idle": "2021-03-21T10:21:31.179774Z",
     "shell.execute_reply": "2021-03-21T10:21:31.179347Z"
    },
    "papermill": {
     "duration": 0.092268,
     "end_time": "2021-03-21T10:21:31.179891",
     "exception": false,
     "start_time": "2021-03-21T10:21:31.087623",
     "status": "completed"
    },
    "tags": []
   },
   "outputs": [],
   "source": [
    "def history_plot(model_id, history1):\n",
    "\tplt.figure(figsize=(14,16)) \n",
    "\t# plot loss\n",
    "\tplt.subplot(2, 1, 1)\n",
    "\tplt.title('Cross Entropy Loss - ' + model_id, fontsize = 12)\n",
    "\tplt.plot(history1.history['loss'], color='blue', label='train base')\n",
    "\tplt.plot(history1.history['val_loss'], color='cyan', label='val base')\n",
    "\tplt.xlabel(\"Epochs\",fontsize = 12)\n",
    "\tplt.ylabel(\"Loss\", fontsize = 12)\n",
    "\tplt.legend(loc='upper right')\n",
    "\n",
    "\t# plot accuracy\n",
    "\tplt.subplot(2, 1, 2)\n",
    "\tplt.title('Classification Accuracy ' + model_id, fontsize = 10)\n",
    "\tplt.plot(history1.history['dice_coef'], color='blue', label='train base')\n",
    "\tplt.plot(history1.history['val_dice_coef'], color='cyan', label='val base')\n",
    "\tplt.xlabel(\"Epochs\", fontsize = 12)\n",
    "\tplt.ylabel(\"dice_coef\", fontsize = 12)\n",
    "\tplt.legend(loc='lower right')\n",
    "\n",
    "\tplt.show()"
   ]
  },
  {
   "cell_type": "code",
   "execution_count": 18,
   "metadata": {
    "execution": {
     "iopub.execute_input": "2021-03-21T10:21:31.310709Z",
     "iopub.status.busy": "2021-03-21T10:21:31.309937Z",
     "iopub.status.idle": "2021-03-21T10:21:31.313723Z",
     "shell.execute_reply": "2021-03-21T10:21:31.313319Z"
    },
    "papermill": {
     "duration": 0.070173,
     "end_time": "2021-03-21T10:21:31.313850",
     "exception": false,
     "start_time": "2021-03-21T10:21:31.243677",
     "status": "completed"
    },
    "tags": []
   },
   "outputs": [
    {
     "data": {
      "text/plain": [
       "dict_keys(['loss', 'dice_coef', 'val_loss', 'val_dice_coef'])"
      ]
     },
     "execution_count": 18,
     "metadata": {},
     "output_type": "execute_result"
    }
   ],
   "source": [
    "history.history.keys()"
   ]
  },
  {
   "cell_type": "code",
   "execution_count": 19,
   "metadata": {
    "execution": {
     "iopub.execute_input": "2021-03-21T10:21:31.451558Z",
     "iopub.status.busy": "2021-03-21T10:21:31.450717Z",
     "iopub.status.idle": "2021-03-21T10:21:31.808381Z",
     "shell.execute_reply": "2021-03-21T10:21:31.808820Z"
    },
    "papermill": {
     "duration": 0.431375,
     "end_time": "2021-03-21T10:21:31.808973",
     "exception": false,
     "start_time": "2021-03-21T10:21:31.377598",
     "status": "completed"
    },
    "tags": []
   },
   "outputs": [
    {
     "data": {
      "image/png": "[encoded data removed]",
      "text/plain": [
       "<Figure size 1008x1152 with 2 Axes>"
      ]
     },
     "metadata": {
      "needs_background": "light"
     },
     "output_type": "display_data"
    }
   ],
   "source": [
    "history_plot('UNET Model', history)"
   ]
  },
  {
   "cell_type": "code",
   "execution_count": 20,
   "metadata": {
    "_cell_guid": "b1076dfc-b9ad-4769-8c92-a6c4dae69d19",
    "_uuid": "8f2839f25d086af736a60e9eeb907d3b93b6e0e5",
    "execution": {
     "iopub.execute_input": "2021-03-21T10:21:31.969501Z",
     "iopub.status.busy": "2021-03-21T10:21:31.962642Z",
     "iopub.status.idle": "2021-03-21T10:21:31.989091Z",
     "shell.execute_reply": "2021-03-21T10:21:31.988265Z"
    },
    "papermill": {
     "duration": 0.115094,
     "end_time": "2021-03-21T10:21:31.989212",
     "exception": false,
     "start_time": "2021-03-21T10:21:31.874118",
     "status": "completed"
    },
    "tags": []
   },
   "outputs": [],
   "source": [
    "model.load_weights('model.h5')"
   ]
  },
  {
   "cell_type": "code",
   "execution_count": 21,
   "metadata": {
    "execution": {
     "iopub.execute_input": "2021-03-21T10:21:32.134229Z",
     "iopub.status.busy": "2021-03-21T10:21:32.133239Z",
     "iopub.status.idle": "2021-03-21T10:21:32.255226Z",
     "shell.execute_reply": "2021-03-21T10:21:32.254682Z"
    },
    "papermill": {
     "duration": 0.201413,
     "end_time": "2021-03-21T10:21:32.255356",
     "exception": false,
     "start_time": "2021-03-21T10:21:32.053943",
     "status": "completed"
    },
    "tags": []
   },
   "outputs": [],
   "source": [
    "model.save('severstal-segmentation_unetDataAugLoss.h5', save_format=\"h5\")"
   ]
  }
 ],
 "metadata": {
  "kernelspec": {
   "display_name": "Python 3",
   "language": "python",
   "name": "python3"
  },
  "language_info": {
   "codemirror_mode": {
    "name": "ipython",
    "version": 3
   },
   "file_extension": ".py",
   "mimetype": "text/x-python",
   "name": "python",
   "nbconvert_exporter": "python",
   "pygments_lexer": "ipython3",
   "version": "3.8.3"
  },
  "papermill": {
   "default_parameters": {},
   "duration": 22800.618797,
   "end_time": "2021-03-21T10:21:35.457974",
   "environment_variables": {},
   "exception": null,
   "input_path": "__notebook__.ipynb",
   "output_path": "__notebook__.ipynb",
   "parameters": {},
   "start_time": "2021-03-21T04:01:34.839177",
   "version": "2.2.2"
  }
 },
 "nbformat": 4,
 "nbformat_minor": 4
}
